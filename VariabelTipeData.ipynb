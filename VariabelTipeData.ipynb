{
 "cells": [
  {
   "cell_type": "markdown",
   "id": "96ddc382",
   "metadata": {},
   "source": [
    "<h1>Variabel dan Tipe Data Phyton</h1><hr>\n",
    "<font color=\"blue\">Beberapa</font> aturan pembuatan variabel di <b>phyton</b>;\n",
    "\n",
    "<ol>\n",
    "    <li>Bersifat case sensitif => A != a</li>\n",
    "    <li>Harus diawali dengan huruf ata karakter _(underscore)</li>\n",
    "    <li>Tidak boleh menggunakan spasi</li>\n",
    "    <li>Boleh menggunakan angka</li>\n",
    "</ol>"
   ]
  },
  {
   "cell_type": "code",
   "execution_count": 3,
   "id": "59b1f31f",
   "metadata": {},
   "outputs": [
    {
     "name": "stdout",
     "output_type": "stream",
     "text": [
      "12\n",
      "100.9\n",
      "1\n",
      "True\n"
     ]
    }
   ],
   "source": [
    "data_int = 12\n",
    "data_float = 100.9\n",
    "data_string = '1'\n",
    "data_boolean = True\n",
    "\n",
    "print(data_int)\n",
    "print(data_float)\n",
    "print(data_string)\n",
    "print(data_boolean)"
   ]
  },
  {
   "cell_type": "markdown",
   "id": "43b9d0bd",
   "metadata": {},
   "source": [
    "Untuk mengetahui tipe data dari sebuah variabel gunakan comand <b>type</b>"
   ]
  },
  {
   "cell_type": "code",
   "execution_count": 4,
   "id": "086527dc",
   "metadata": {},
   "outputs": [
    {
     "name": "stdout",
     "output_type": "stream",
     "text": [
      "<class 'int'>\n",
      "<class 'float'>\n",
      "<class 'str'>\n",
      "<class 'bool'>\n"
     ]
    }
   ],
   "source": [
    "print(type(data_int))\n",
    "print(type(data_float))\n",
    "print(type(data_string))\n",
    "print(type(data_boolean))"
   ]
  },
  {
   "cell_type": "markdown",
   "id": "81ddcfbb",
   "metadata": {},
   "source": [
    "Pada phyton terdapat proses <b>CASTING</b> yaitu konverensi dari sebuah tipe data ke tipe data yang lain yaitu dengan sintaks <b>tipe_data(nama_variabel)</b>"
   ]
  },
  {
   "cell_type": "code",
   "execution_count": 13,
   "id": "e4e0328c",
   "metadata": {},
   "outputs": [
    {
     "name": "stdout",
     "output_type": "stream",
     "text": [
      "nilai variabel data_int= 12\n",
      "12.0\n",
      "12\n",
      "True\n"
     ]
    }
   ],
   "source": [
    "int_to_float = float(data_int)\n",
    "int_to_string = str(data_int)\n",
    "int_to_boolean = bool(data_int)\n",
    "\n",
    "print (\"nilai variabel data_int=\",data_int)\n",
    "print(int_to_float)\n",
    "print(int_to_string)\n",
    "print(int_to_boolean)"
   ]
  },
  {
   "cell_type": "code",
   "execution_count": 8,
   "id": "a0aeab20",
   "metadata": {},
   "outputs": [
    {
     "name": "stdout",
     "output_type": "stream",
     "text": [
      "nilai variabel data_float 100.9\n",
      "100.9\n",
      "100.9\n",
      "True\n"
     ]
    }
   ],
   "source": [
    "float_to_int = float(data_float)\n",
    "float_to_string = str(data_float)\n",
    "float_to_boolean = bool(data_float)\n",
    "\n",
    "print (\"nilai variabel data_float=\",data_float)\n",
    "print(float_to_int)\n",
    "print(float_to_string)\n",
    "print(float_to_boolean)"
   ]
  },
  {
   "cell_type": "code",
   "execution_count": 10,
   "id": "0cc025b3",
   "metadata": {},
   "outputs": [
    {
     "name": "stdout",
     "output_type": "stream",
     "text": [
      "nilai variabel data_string 1\n",
      "1\n",
      "1.0\n",
      "True\n"
     ]
    }
   ],
   "source": [
    "string_to_int = int(data_string)\n",
    "string_to_float = float(data_string)\n",
    "string_to_boolean = bool(data_string)\n",
    "\n",
    "print (\"nilai variabel data_string=\",data_string)\n",
    "print(string_to_int)\n",
    "print(string_to_float)\n",
    "print(string_to_boolean)"
   ]
  },
  {
   "cell_type": "code",
   "execution_count": 12,
   "id": "f880d639",
   "metadata": {},
   "outputs": [
    {
     "name": "stdout",
     "output_type": "stream",
     "text": [
      "nilai variabel data_boolean= True\n",
      "1\n",
      "1.0\n",
      "True\n"
     ]
    }
   ],
   "source": [
    "boolean_to_int = int(data_boolean)\n",
    "boolean_to_float = float(data_boolean)\n",
    "boolean_to_string = str(data_boolean)\n",
    "\n",
    "print (\"nilai variabel data_boolean=\",data_boolean)\n",
    "print(boolean_to_int)\n",
    "print(boolean_to_float)\n",
    "print(boolean_to_string)"
   ]
  },
  {
   "cell_type": "code",
   "execution_count": 24,
   "id": "4128ecdf",
   "metadata": {},
   "outputs": [
    {
     "name": "stdout",
     "output_type": "stream",
     "text": [
      "isikan bilangan 1=12\n",
      "isikan bilangan 2=6\n",
      "hasil penjumlahan 18.0\n",
      "hasil pembagian 2.0\n",
      "hasil perkalian 72.0\n",
      "hasil pengurangan 6.0\n"
     ]
    }
   ],
   "source": [
    "bil1 = float(input(\"isikan bilangan 1=\"))\n",
    "bil2 = float(input(\"isikan bilangan 2=\"))\n",
    "hasil_tambah = bil1 + bil2\n",
    "hasil_bagi = bil1 / bil2\n",
    "hasil_kali = bil1 * bil2\n",
    "hasil_kurang = bil1 - bil2\n",
    "\n",
    "print(\"hasil penjumlahan\",hasil_tambah)\n",
    "print(\"hasil pembagian\",hasil_bagi)\n",
    "print(\"hasil perkalian\",hasil_kali)\n",
    "print(\"hasil pengurangan\",hasil_kurang)"
   ]
  }
 ],
 "metadata": {
  "kernelspec": {
   "display_name": "Python 3 (ipykernel)",
   "language": "python",
   "name": "python3"
  },
  "language_info": {
   "codemirror_mode": {
    "name": "ipython",
    "version": 3
   },
   "file_extension": ".py",
   "mimetype": "text/x-python",
   "name": "python",
   "nbconvert_exporter": "python",
   "pygments_lexer": "ipython3",
   "version": "3.9.12"
  }
 },
 "nbformat": 4,
 "nbformat_minor": 5
}
